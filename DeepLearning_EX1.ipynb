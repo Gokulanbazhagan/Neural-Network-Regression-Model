{
  "nbformat": 4,
  "nbformat_minor": 0,
  "metadata": {
    "colab": {
      "provenance": []
    },
    "kernelspec": {
      "name": "python3",
      "display_name": "Python 3"
    },
    "language_info": {
      "name": "python"
    }
  },
  "cells": [
    {
      "cell_type": "code",
      "execution_count": 1,
      "metadata": {
        "id": "jBfwo2P2eqny"
      },
      "outputs": [],
      "source": [
        "import torch\n",
        "import torch.nn as nn\n",
        "import torch.optim as optim\n",
        "import pandas as pd\n",
        "from sklearn.model_selection import train_test_split\n",
        "from sklearn.preprocessing import MinMaxScaler"
      ]
    },
    {
      "cell_type": "code",
      "source": [
        "dataset1 = pd.read_csv('dpex1.csv')\n",
        "X = dataset1[['Input']].values\n",
        "y = dataset1[['Output']].values"
      ],
      "metadata": {
        "id": "4JK8DOPoe69C"
      },
      "execution_count": 2,
      "outputs": []
    },
    {
      "cell_type": "code",
      "source": [
        "\n",
        "X_train, X_test, y_train, y_test = train_test_split(X, y, test_size=0.33, random_state=33)"
      ],
      "metadata": {
        "id": "pB2bwWEXf_oj"
      },
      "execution_count": 34,
      "outputs": []
    },
    {
      "cell_type": "code",
      "source": [
        "\n",
        "scaler = MinMaxScaler()\n",
        "X_train = scaler.fit_transform(X_train)\n",
        "X_test = scaler.transform(X_test)"
      ],
      "metadata": {
        "id": "Mh6F93YRgOsR"
      },
      "execution_count": 35,
      "outputs": []
    },
    {
      "cell_type": "code",
      "source": [
        "X_train_tensor = torch.tensor(X_train, dtype=torch.float32)\n",
        "y_train_tensor = torch.tensor(y_train, dtype=torch.float32).view(-1, 1)\n",
        "X_test_tensor = torch.tensor(X_test, dtype=torch.float32)\n",
        "y_test_tensor = torch.tensor(y_test, dtype=torch.float32).view(-1, 1)"
      ],
      "metadata": {
        "id": "E8sI1RQ4gbI6"
      },
      "execution_count": 36,
      "outputs": []
    },
    {
      "cell_type": "code",
      "source": [
        "# Name: Gokularamanan K\n",
        "# Reg No:212222230040\n",
        "class NeuralNet(nn.Module):\n",
        "    def __init__(self):\n",
        "        super().__init__()\n",
        "        self.fc1 = nn.Linear(1, 10)\n",
        "        self.fc2 = nn.Linear(10, 1)\n",
        "        self.relu = nn.ReLU()\n",
        "\n",
        "    def forward(self, x):\n",
        "        x = self.relu(self.fc1(x))\n",
        "        x = self.fc2(x)\n",
        "        return x\n"
      ],
      "metadata": {
        "id": "RyJ7ab_tgdwP"
      },
      "execution_count": 49,
      "outputs": []
    },
    {
      "cell_type": "code",
      "source": [
        "ai_brain = NeuralNet()\n",
        "criterion = nn.MSELoss()\n",
        "optimizer = optim.Adam(ai_brain.parameters(), lr=0.01)"
      ],
      "metadata": {
        "id": "8CkGb5l9hMoP"
      },
      "execution_count": 50,
      "outputs": []
    },
    {
      "cell_type": "code",
      "source": [
        "ai_brain.history = {'loss': []}"
      ],
      "metadata": {
        "id": "ApDVPvpThPMd"
      },
      "execution_count": 51,
      "outputs": []
    },
    {
      "cell_type": "code",
      "source": [
        "def train_model(ai_brain, X_train, y_train, criterion, optimizer, epochs=1000):\n",
        "    for epoch in range(epochs):\n",
        "        optimizer.zero_grad()\n",
        "        outputs = ai_brain(X_train)\n",
        "        loss = criterion(outputs, y_train)\n",
        "        loss.backward()\n",
        "        optimizer.step()\n",
        "\n",
        "        ai_brain.history['loss'].append(loss.item())\n",
        "        if epoch % 200 == 0:\n",
        "            print(f'Epoch [{epoch}/{epochs}], Loss: {loss.item():.6f}')"
      ],
      "metadata": {
        "id": "UZavF7pRhf9X"
      },
      "execution_count": 56,
      "outputs": []
    },
    {
      "cell_type": "code",
      "source": [
        "train_model(ai_brain, X_train_tensor, y_train_tensor, criterion, optimizer)"
      ],
      "metadata": {
        "colab": {
          "base_uri": "https://localhost:8080/"
        },
        "id": "vGU2fZvZhh9W",
        "outputId": "b31e6a40-d546-4271-f79f-c37ecfe30a78"
      },
      "execution_count": 57,
      "outputs": [
        {
          "output_type": "stream",
          "name": "stdout",
          "text": [
            "Epoch [0/1000], Loss: 0.136034\n",
            "Epoch [200/1000], Loss: 0.018021\n",
            "Epoch [400/1000], Loss: 0.001540\n",
            "Epoch [600/1000], Loss: 0.000084\n",
            "Epoch [800/1000], Loss: 0.000003\n"
          ]
        }
      ]
    },
    {
      "cell_type": "code",
      "source": [
        "with torch.no_grad():\n",
        "    test_loss = criterion(ai_brain(X_test_tensor), y_test_tensor)\n",
        "    print(f'Test Loss: {test_loss.item():.6f}')"
      ],
      "metadata": {
        "colab": {
          "base_uri": "https://localhost:8080/"
        },
        "id": "yQfi1fHShltg",
        "outputId": "f74f3c09-23f4-4811-b504-8699f89e6062"
      },
      "execution_count": 58,
      "outputs": [
        {
          "output_type": "stream",
          "name": "stdout",
          "text": [
            "Test Loss: 0.000211\n"
          ]
        }
      ]
    },
    {
      "cell_type": "code",
      "source": [
        "loss_df = pd.DataFrame(ai_brain.history)"
      ],
      "metadata": {
        "id": "P2v3LPt4hvi_"
      },
      "execution_count": 59,
      "outputs": []
    },
    {
      "cell_type": "code",
      "source": [
        "import matplotlib.pyplot as plt\n",
        "loss_df.plot()\n",
        "plt.xlabel(\"Epochs\")\n",
        "plt.ylabel(\"Loss\")\n",
        "plt.title(\"Loss during Training\")\n",
        "plt.show()"
      ],
      "metadata": {
        "colab": {
          "base_uri": "https://localhost:8080/",
          "height": 472
        },
        "id": "og2HAf5dh4MW",
        "outputId": "5bcb734d-0c16-45b1-b608-a8078eee8caa"
      },
      "execution_count": 60,
      "outputs": [
        {
          "output_type": "display_data",
          "data": {
            "text/plain": [
              "<Figure size 640x480 with 1 Axes>"
            ],
            "image/png": "[encoded data removed]"
          },
          "metadata": {}
        }
      ]
    },
    {
      "cell_type": "code",
      "source": [
        "X_n1_1 = torch.tensor([[9]], dtype=torch.float32)\n",
        "prediction = ai_brain(torch.tensor(scaler.transform(X_n1_1), dtype=torch.float32)).item()\n",
        "print(f'Prediction: {prediction}')"
      ],
      "metadata": {
        "colab": {
          "base_uri": "https://localhost:8080/"
        },
        "id": "5kqwL6QNiisT",
        "outputId": "09ea7cd2-bbb8-4528-ab01-bd1469d8cb60"
      },
      "execution_count": 61,
      "outputs": [
        {
          "output_type": "stream",
          "name": "stdout",
          "text": [
            "Prediction: 22.99994659423828\n"
          ]
        }
      ]
    },
    {
      "cell_type": "code",
      "source": [],
      "metadata": {
        "id": "dkn-n963ikU4"
      },
      "execution_count": null,
      "outputs": []
    }
  ]
}